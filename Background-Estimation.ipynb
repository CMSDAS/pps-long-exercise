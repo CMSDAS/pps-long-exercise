{
 "cells": [
  {
   "cell_type": "markdown",
   "metadata": {
    "slideshow": {
     "slide_type": "slide"
    }
   },
   "source": [
    "# Background estimation\n",
    "\n",
    "In this notebook we'll perform background estimation. We shall make use of the so called **ABCD method**. \n",
    "We describe the method briefly in what follows before applying it to our analysis.\n",
    "Let's assume we identify two variables ($v_1$ and $v_2$) which have uncorrelated distributions for the background.\n",
    "A cut each of these variables will have an efficiency which is indepedent of whatever selections have been performed on the other variable.\n",
    "Let's say we divide the 2D-plane ($v_1-v_2$) in four regions (A,B,C,D) being A is the final signal region where both selection requirements on $v_1$ and $v_2$ are applied. Such plane is represented in the following figure.\n",
    "\n",
    "![Representation of the 2D-plane used to define the ABCD regions for background estimation](img/abcd_method.png \"ABCD method\")\n",
    "\n",
    "If the selections are indeed uncorrelated for the background, then one can assume that the ratio of events in each regions can be related as:\n",
    "\n",
    "\\begin{equation}\n",
    "\\frac{N_{A}^{bkg}}{N_{B}^{bkg}} =\\frac{N_{C}^{bkg}}{N_{D}^{bkg}} \\Leftrightarrow N_{A}^{bkg} =N_{B}^{bkg}\\cdot\\frac{N_{C}^{bkg}}{N_{D}^{bkg}}\n",
    "\\end{equation}\n",
    "\n",
    "In the notebook below we shall apply this method to our analysis using two uncorrelated variables: the number of extra PF candidates and the $\\Delta\\xi$."
   ]
  },
  {
   "cell_type": "markdown",
   "metadata": {},
   "source": [
    "## Loading the data and simulations to test the method\n",
    "\n",
    "The procedure used here is analogous to the one used in the Classification-Training notebook.\n",
    "After loading the data we run a prepare data method such that we can also run the classifier we have previously trained. In the prepare data method we'll already include the output of the classifier.\n",
    "\n",
    "**NOTE**: If you are using only part of the data, use corresponding luminosity listed under `Data and MC samples used in the exercise` in the [Twiki](https://twiki.cern.ch/twiki/bin/view/CMS/SWGuideCMSDataAnalysisSchoolLPC2022TaggedProtonsLongExercise#Setting_up_the_analysis)\n",
    "\n",
    "  Era   | lumi [1/pb]\n",
    "  ----- | ----\n",
    "  2018A | 12103.827907\n",
    "  2018B |  6785.883919\n",
    "  2018C |  6529.729483\n",
    "  2018D | 30296.628607\n",
    "  \n",
    "  Signal acceptance is obtained from the original ntuples by computing the ratio between the number of events at preselection to the number of events in the original sample. For example, for di-electron sample, execute the following lines in lxplus:\n",
    "```bash \n",
    "root -l /eos/user/c/cmsdas/long-exercises/pps-exclusive-dilepton/ntuples/signal/GGToEE_Elastic_v0_signal_xa120_era2017_preTS2.root\n",
    "```\n",
    "In root:\n",
    "```cpp \n",
    "float Nselected = Events->GetEntries();\n",
    "Runs->Draw(\"1>>h(1,0,2)\",\"genEventCount\")\n",
    "float Ntotal = h->GetBinContent(1)\n",
    "cout << \"Signal acceptance = \" << Nselected / Ntotal << endl;\n",
    "```"
   ]
  },
  {
   "cell_type": "code",
   "execution_count": 1,
   "metadata": {},
   "outputs": [],
   "source": [
    "from snippets.GetData import *\n",
    "#global configurarables (check the Data-Inspection notebook for consistency)\n",
    "proton_selection = \"MultiRP\"\n",
    "DATAPATH='root://cmseos.fnal.gov//store/user/cmsdas/2022/long_exercises/pps-exclusive-dilepton/h5py'\n",
    "PATH='output'\n",
    "#eras=['B','C','D','E','F'] #uncomment to use all data\n",
    "eras=['B']\n",
    "lumi=6785.883919\n",
    "stream='Mu' # 'El' OR 'Mu'"
   ]
  },
  {
   "cell_type": "code",
   "execution_count": 2,
   "metadata": {},
   "outputs": [
    {
     "name": "stdout",
     "output_type": "stream",
     "text": [
      "copying output-UL2018B-Mu-Rand20.h5\n",
      "[251MB/251MB][100%][==================================================][15.69MB/s]  \n",
      "copying output-GGToMuMu_Elastic_v0_SignalOnly.h5\n",
      "[2.508MB/2.508MB][100%][==================================================][856kB/s]  \n",
      "copying output-UL2018B-Mu.h5\n",
      "[12.57MB/12.57MB][100%][==================================================][3.142MB/s]  \n"
     ]
    }
   ],
   "source": [
    "#Execute this lines to copy the files to local folder\n",
    "# dont forget to run \"voms-proxy-init -voms cms -valid 192:00\" from terminal\n",
    "files=[('output-UL2018%s-%s-Rand20.h5'%(era,stream)) for era in eras]\n",
    "files.append('output-GGToMuMu_Elastic_v0_SignalOnly.h5')\n",
    "files  = files + ['output-UL2018{}-{}.h5'.format(era,stream) for era in eras]\n",
    "\n",
    "for f in files:\n",
    "    print('copying %s'%f)\n",
    "    !xrdcopy -f {DATAPATH}/{f} {PATH}/."
   ]
  },
  {
   "cell_type": "code",
   "execution_count": 3,
   "metadata": {},
   "outputs": [
    {
     "name": "stdout",
     "output_type": "stream",
     "text": [
      "[Signal simulation]\n",
      "Collecting data from output/output-GGToMuMu_Elastic_v0_SignalOnly.h5\n",
      "\tCollecting events 0 106622\n",
      "\tReturning the result of 1 merged datasets\n",
      "Selection counts\n",
      "All        447194\n",
      "Lepton      69588\n",
      "Vertex      69588\n",
      "Protons     39261\n",
      "dtype: int64\n",
      "\n",
      "\n",
      "[Data (to be used as background)]\n",
      "Collecting data from output/output-UL2018B-Mu-Rand20.h5\n",
      "\tCollecting events 0 1000000\n",
      "\tCollecting events 1000000 2000000\n",
      "\tCollecting events 2000000 3000000\n",
      "\tCollecting events 3000000 4000000\n",
      "\tCollecting events 4000000 5000000\n",
      "\tCollecting events 5000000 6000000\n",
      "\tCollecting events 6000000 7000000\n",
      "\tCollecting events 7000000 8000000\n",
      "\tCollecting events 8000000 9000000\n",
      "\tCollecting events 9000000 10000000\n",
      "\tCollecting events 10000000 11000000\n",
      "\tCollecting events 11000000 12000000\n",
      "\tCollecting events 12000000 13000000\n",
      "\tCollecting events 13000000 14000000\n",
      "\tCollecting events 14000000 15000000\n",
      "\tCollecting events 15000000 15766440\n",
      "\tReturning the result of 16 merged datasets\n",
      "Selection counts\n",
      "All           89753820\n",
      "Lepton         2945460\n",
      "Vertex         2945460\n",
      "ProtonsRnd     2500120\n",
      "dtype: int64\n",
      "\n",
      "\n",
      "[Data]\n",
      "Collecting data from output/output-UL2018B-Mu.h5\n",
      "\tCollecting events 0 788322\n",
      "\tReturning the result of 1 merged datasets\n",
      "Selection counts\n",
      "All        4487691\n",
      "Lepton      147273\n",
      "Vertex      147273\n",
      "Protons     125006\n",
      "dtype: int64\n"
     ]
    }
   ],
   "source": [
    "print('[Signal simulation]')\n",
    "df_signal,df_counts_signal = GetData(PATH+'/output-GGTo{}_Elastic_v0_SignalOnly.h5'.format('EE' if stream=='El' else 'MuMu'), is2018=True)\n",
    "sig_acc=0.380382 if stream=='El' else 0.33639\n",
    "sig_xsec=0.046 if stream=='El' else 0.112\n",
    "print('Selection counts')\n",
    "print(df_counts_signal)\n",
    "\n",
    "print('\\n')\n",
    "print('[Data (to be used as background)]')\n",
    "data_files = [PATH+'/output-UL2018{}-{}-Rand20.h5'.format(era,stream) for era in eras]\n",
    "df_bkg,df_counts_bkg = GetData(data_files,chunk_size=1000000, is2018=True)\n",
    "print('Selection counts')\n",
    "print(df_counts_bkg)\n",
    "print('\\n')\n",
    "\n",
    "print('[Data]')\n",
    "data_files = [PATH+'/output-UL2018{}-{}.h5'.format(era,stream) for era in eras]\n",
    "df_data,df_counts_data = GetData(data_files,chunk_size=1000000, is2018=True)\n",
    "print('Selection counts')\n",
    "print(df_counts_data)"
   ]
  },
  {
   "cell_type": "code",
   "execution_count": 4,
   "metadata": {},
   "outputs": [
    {
     "name": "stdout",
     "output_type": "stream",
     "text": [
      "Signal size = 30842\n",
      "Background size = 96152\n",
      "Data size = 4713\n"
     ]
    }
   ],
   "source": [
    "def PrepareData(df,clf=None,train_vars=['Lep0Pt', 'Lep1Pt', 'InvMass',   'XiMuMu', 'Xi', 'Acopl','PV_ndof']):\n",
    "    \n",
    "    \"\"\"applies baseline selection cuts and adds the Xi resolution and the classifier prediction\"\"\"\n",
    "\n",
    "    #msk = ( df[\"InvMass\"] >= 110. ) & ( df[\"PV_ndof\"] <= 3 )\n",
    "    msk = ( df[\"InvMass\"] >= 110. ) & ( df[\"Acopl\"] < 0.003 )\n",
    "\n",
    "    msk1 = None\n",
    "    msk2 = None\n",
    "    if proton_selection == \"SingleRP\":\n",
    "        # Single-RP in pixel stations\n",
    "        msk1_arm = ( df[\"RPId1\"] == 23 )\n",
    "        msk2_arm = ( df[\"RPId1\"] == 123 )\n",
    "        multiRP=0\n",
    "    elif proton_selection == \"MultiRP\":\n",
    "        # Multi-RP\n",
    "        msk1_arm = ( df[\"Arm\"] == 0 )\n",
    "        msk2_arm = ( df[\"Arm\"] == 1 )\n",
    "        multiRP=1\n",
    "   \n",
    "    #assign the xi from the dileptons based on the proton side\n",
    "    df[ \"XiMuMu\" ] = np.nan\n",
    "    df[ \"XiMuMu\" ].where( ~msk1_arm, df[ \"XiMuMuPlus\" ],  inplace=True )\n",
    "    df[ \"XiMuMu\" ].where( ~msk2_arm, df[ \"XiMuMuMinus\" ], inplace=True )\n",
    "\n",
    "    #add a resolution column\n",
    "    df[ 'DeltaXi'] = df[ \"XiMuMu\" ]-df[ \"Xi\" ]\n",
    "    df[ 'AbsDeltaXi'] = np.abs(df['DeltaXi'])\n",
    "    \n",
    "    #filter the data for reconstructed protons\n",
    "    msk1 = msk & ( df[\"MultiRP\"] == multiRP) & msk1_arm\n",
    "    msk2 = msk & ( df[\"MultiRP\"] == multiRP) & msk2_arm   \n",
    "    df=df[msk1 | msk2].copy()\n",
    "\n",
    "    #add the result of the classifier prediction\n",
    "    if clf and len(train_vars)>0:\n",
    "        X=df[train_vars]\n",
    "        df['clf_proba'] = clf.predict_proba(X)[:,1]\n",
    "        df['clf_categ'] = clf.predict(X).astype(int)\n",
    "        \n",
    "    return df\n",
    "\n",
    "\n",
    "#load the trained model\n",
    "from joblib import load\n",
    "clf = load('pps_longexercise_clf.joblib') \n",
    "\n",
    "df_signal_prep=PrepareData(df_signal,clf)\n",
    "df_bkg_prep=PrepareData(df_bkg,clf)\n",
    "df_data_prep=PrepareData(df_data,clf)\n",
    "print('Signal size = %d\\nBackground size = %d\\nData size = %d'%(df_signal_prep.shape[0],df_bkg_prep.shape[0],df_data_prep.shape[0]))"
   ]
  },
  {
   "cell_type": "markdown",
   "metadata": {},
   "source": [
    "We were using dataframes, where each row corresponds to an entry with forward protons. Before moving on, we need to convert the dataframes to list events instead of protons. Run the following two blocks:"
   ]
  },
  {
   "cell_type": "code",
   "execution_count": 5,
   "metadata": {},
   "outputs": [],
   "source": [
    "#The next two blocks are used to convert the dataframe from Nprotons to Nevents\n",
    "def DataFrameToEvents(df):\n",
    "    columns_to_drop = ['Xi','MultiRP','Arm','RPId1','T','EventNum']\n",
    "    new_columns = df.keys().drop(columns_to_drop)\n",
    "    return df.groupby('EventNum').first()[new_columns] "
   ]
  },
  {
   "cell_type": "code",
   "execution_count": 6,
   "metadata": {},
   "outputs": [],
   "source": [
    "df_signal_prep = DataFrameToEvents(df_signal_prep)\n",
    "df_bkg_prep = DataFrameToEvents(df_bkg_prep)\n",
    "df_data_prep = DataFrameToEvents(df_data_prep)"
   ]
  },
  {
   "cell_type": "markdown",
   "metadata": {},
   "source": [
    "## Running a simple ABCD prediction\n",
    "\n",
    "In the following cell we plot the ABCD regions for signal, data and background in each one of them.\n",
    "For the data we select only the events which are categorized as background events (i.e. blind the final signal selection).\n",
    "What can you conclude from the following plots?\n",
    "\n",
    "**TASK 1**\n",
    "\n",
    "Compute the correlation of the two variables for each of the 3 datasets being plotted."
   ]
  },
  {
   "cell_type": "code",
   "execution_count": 7,
   "metadata": {},
   "outputs": [
    {
     "data": {
      "image/png": "[encoded data removed]",
      "text/plain": [
       "<Figure size 1080x360 with 3 Axes>"
      ]
     },
     "metadata": {
      "needs_background": "light"
     },
     "output_type": "display_data"
    }
   ],
   "source": [
    "import matplotlib.pyplot as plt\n",
    "\n",
    "v1='AbsDeltaXi'\n",
    "cut_v1=0.03\n",
    "range_v1=(0,0.15)\n",
    "\n",
    "v2='PV_ndof'\n",
    "cut_v2=10\n",
    "range_v2=(0,60)\n",
    "\n",
    "#v2='Acopl'\n",
    "#cut_v2=0.03\n",
    "#range_v2=(0,1)\n",
    "\n",
    "def doScatter(df,label, ax):\n",
    "    ax.hist2d(df[v1],df[v2],cmap='Blues')\n",
    "    ax.set_xlim(*range_v1)\n",
    "    ax.set_ylim(*range_v2)\n",
    "    ax.set_xlabel(v1)\n",
    "    ax.set_ylabel(v2)\n",
    "    ax.plot([cut_v1,cut_v1],[range_v2[0],range_v2[1]],color='lightgray')\n",
    "    ax.plot([range_v1[0],range_v1[1]],[cut_v2,cut_v2],color='lightgray')\n",
    "    ax.text(0.2,0.9,label, transform=ax.transAxes)\n",
    "    ax.text(cut_v1*0.7,cut_v2*0.7,'A')\n",
    "    ax.text(cut_v1*1.2,cut_v2*0.7,'B')\n",
    "    ax.text(cut_v1*0.7,cut_v2*1.2,'C')\n",
    "    ax.text(cut_v1*1.2,cut_v2*1.2,'D')\n",
    "    \n",
    "\n",
    "    \n",
    "fig, ax = plt.subplots(1, 3, figsize=(15,5))\n",
    "doScatter(df_signal_prep,'Signal',ax[0])\n",
    "doScatter(df_bkg_prep,'Background',ax[1])\n",
    "doScatter(df_data_prep[df_data_prep['clf_categ']==0],'Data (background category)',ax[2])\n",
    "\n",
    "plt.show()"
   ]
  },
  {
   "cell_type": "markdown",
   "metadata": {},
   "source": [
    "We now apply the ABCD method with a simple function... and the background is estimated!\n",
    "\n",
    "**TASK 2**\n",
    "\n",
    "Discusion: Is this method perfect? \n",
    "How is the closure affected if the cuts are different?\n",
    "Is there any extra dependency (e.g. on data-taking era, pileup, dilepton variables, etc.)?\n",
    "What are the final uncertainties we can associate to this method?"
   ]
  },
  {
   "cell_type": "code",
   "execution_count": 8,
   "metadata": {},
   "outputs": [],
   "source": [
    "def getABCDYields(df):\n",
    "    \n",
    "    \"\"\"gets the yields in the different abcd regions\"\"\"\n",
    "\n",
    "    mask_a=(df[v1]<cut_v1) &(df[v2]<cut_v2)\n",
    "    mask_b=(df[v1]>cut_v1) &(df[v2]<cut_v2)\n",
    "    mask_c=(df[v1]<cut_v1) &(df[v2]>cut_v2)\n",
    "    mask_d=(df[v1]>cut_v1) &(df[v2]>cut_v2)\n",
    "    \n",
    "    yields={'A':df[mask_a].shape[0],\n",
    "            'B':df[mask_b].shape[0],\n",
    "            'C':df[mask_c].shape[0],\n",
    "            'D':df[mask_d].shape[0]}\n",
    "\n",
    "    return yields\n",
    " \n",
    "def getABCDPrediction(df):\n",
    "    \n",
    "    \"\"\"\n",
    "    starting from the yields in the different regions, applies the ABCD formula\n",
    "    returns the number of events observed in the signal region and the estimated number of events\n",
    "    \"\"\"\n",
    "    \n",
    "    yields=getABCDYields(df)\n",
    "    \n",
    "    return yields['A'],yields['B']*yields['C']/yields['D']\n"
   ]
  },
  {
   "cell_type": "code",
   "execution_count": 9,
   "metadata": {},
   "outputs": [
    {
     "name": "stdout",
     "output_type": "stream",
     "text": [
      "\n",
      "Data (background category)\n",
      "nA(obs)=7 nA(est)=11.0 bias=1.566\n",
      "\n",
      "Data (background)\n",
      "nA(obs)=24 nA(est)=29.6 bias=1.232\n",
      "syst_bkg = 1.23\n"
     ]
    }
   ],
   "source": [
    "print('\\nData (background category)')\n",
    "nA,nAest=getABCDPrediction(df_data_prep[df_data_prep['clf_categ']==0])\n",
    "print('nA(obs)=%d nA(est)=%3.1f bias=%3.3f'%(nA,nAest,nAest/nA))\n",
    "\n",
    "print('\\nData (background)')\n",
    "nA,nAest=getABCDPrediction(df_bkg_prep)\n",
    "print('nA(obs)=%d nA(est)=%3.1f bias=%3.3f'%(nA,nAest,nAest/nA))\n",
    "\n",
    "#compute systematic error from closure test on background\n",
    "SYS_ERROR = '%2.2f'%(nAest/nA if (nAest > nA) else nA/nAest)\n",
    "print('syst_bkg = '+SYS_ERROR)"
   ]
  },
  {
   "cell_type": "markdown",
   "metadata": {},
   "source": [
    "## Gearing up for the statistical analysis\n",
    "\n",
    "In the following we'll prepare a so called datacard reporting the yields in each region for the signal and the background, as well as their associated uncertainties. This datacard will be used as input for the Higgs Combination tool. More details on this tool can be found in [here](https://cms-analysis.github.io/HiggsAnalysis-CombinedLimit).\n",
    "\n",
    "We start by preparing a ROOT file which will contain the counting histograms.\n",
    "For the moment this will be simple 1bin histograms with event counts but after you understand the example you can evolve this to be based on the distribution of a variable."
   ]
  },
  {
   "cell_type": "code",
   "execution_count": 10,
   "metadata": {},
   "outputs": [
    {
     "name": "stdout",
     "output_type": "stream",
     "text": [
      "Welcome to JupyROOT 6.24/06\n",
      "Background estimation has been scaled by 0.746\n",
      "Signal estimation has been scaled by 0.000\n",
      "Writes: shapesB_Mu.root\n"
     ]
    }
   ],
   "source": [
    "import ROOT\n",
    "\n",
    "samples={'bkg':df_bkg_prep,\n",
    "         'sig':df_signal_prep,\n",
    "         'data_obs':df_data_prep}\n",
    "\n",
    "#loop over the samples\n",
    "#get yields in the different regions\n",
    "yields_abcd={}\n",
    "for df_name,df in samples.items():    \n",
    "    yields_abcd[df_name]=getABCDYields(df)\n",
    "    \n",
    "#apply a scale factor to the background estimation such that it matches the data in region D\n",
    "bkgSF=yields_abcd['data_obs']['D']/yields_abcd['bkg']['D']\n",
    "for x in yields_abcd['bkg']: \n",
    "    yields_abcd['bkg'][x]=bkgSF*yields_abcd['bkg'][x]\n",
    "print('Background estimation has been scaled by %3.3f'%bkgSF)\n",
    "\n",
    "#apply a scale factor to the signal to normalize by luminosity\n",
    "sigSF=lumi*sig_acc*sig_xsec\n",
    "\n",
    "#normalize the signal to the total number of events\n",
    "sigSF=sigSF/df_counts_signal['All']\n",
    "\n",
    "for x in yields_abcd['sig']: \n",
    "    yields_abcd['sig'][x]=sigSF*yields_abcd['sig'][x]\n",
    "print('Signal estimation has been scaled by %3.3f'%sigSF)\n",
    "\n",
    "#template for the shape of the distribution to analyze\n",
    "shapeH=ROOT.TH1F('shape','shape',1,0,1)\n",
    "shapeH.SetDirectory(0)\n",
    "\n",
    "#open the output file\n",
    "fOut=ROOT.TFile.Open('shapes'+eras[0]+'_'+stream+'.root','RECREATE')\n",
    "\n",
    "#loop over the samples\n",
    "for df_name in samples:    \n",
    "    \n",
    "    #save the counts in histogram and store them in the file\n",
    "    for region in yields_abcd[df_name]:\n",
    "        shape=shapeH.Clone('{}_{}'.format(df_name,region))\n",
    "        shape.SetBinContent(1,yields_abcd[df_name][region])\n",
    "        shape.SetDirectory(fOut)\n",
    "        shape.Write()\n",
    "\n",
    "print('Writes: '+fOut.GetName())\n",
    "fOut.Close()\n",
    "\n",
    "shapeH.Delete()"
   ]
  },
  {
   "cell_type": "code",
   "execution_count": 11,
   "metadata": {},
   "outputs": [
    {
     "name": "stdout",
     "output_type": "stream",
     "text": [
      "datacardB_Mu.dat is ready to be used with combine\n",
      "\n",
      "\n",
      "imax *  number of channels\n",
      "jmax *  number of processes -1\n",
      "kmax *  number of nuisance parameters (sources of systematical uncertainties)\n",
      "-------\n",
      "shapes * * shapesB_Mu.root $PROCESS_$CHANNEL $PROCESS_$CHANNEL_$SYSTEMATIC\n",
      "bin          A   B   C   D\n",
      "observation  22 149 260 2010\n",
      "-------\n",
      "bin         A    A    B   B   C   C   D   D\n",
      "process     sig  bkg  sig bkg sig bkg sig bkg\n",
      "process     0    1    0   1   0   1   0   1\n",
      "rate        0.515  17.913  0.000 161.964 0.096 273.921 0.000 2010.000\n",
      "-------\n",
      "lumi lnN 1.027 - 1.027 - 1.027 - 1.027 -\n",
      "syst_bkg lnN - 1.23 - - - - - -\n",
      "alpha rateParam A bkg (@0*@1/@2) beta,gamma,delta\n",
      "beta  rateParam B bkg 161.96435202376531\n",
      "gamma rateParam C bkg 273.9212773858151\n",
      "delta rateParam D bkg 2010.0\n"
     ]
    }
   ],
   "source": [
    "#open a txt file to hold the datacard\n",
    "dc=open('datacard'+eras[0]+'_'+stream+'.dat','w')\n",
    "\n",
    "dc.write('imax *  number of channels\\n')\n",
    "dc.write('jmax *  number of processes -1\\n')\n",
    "dc.write('kmax *  number of nuisance parameters (sources of systematical uncertainties)\\n')\n",
    "dc.write('-------\\n')\n",
    "\n",
    "#spell out out the shapes are stored in the ROOT file\n",
    "dc.write('shapes * * shapes'+eras[0]+'_'+stream+'.root $PROCESS_$CHANNEL $PROCESS_$CHANNEL_$SYSTEMATIC\\n')\n",
    "\n",
    "#add the data observations\n",
    "dc.write('bin          A   B   C   D\\n')\n",
    "dc.write('observation  {0} {1} {2} {3}\\n'.format(yields_abcd['data_obs']['A'],\n",
    "                                                 yields_abcd['data_obs']['B'],\n",
    "                                                 yields_abcd['data_obs']['C'],\n",
    "                                                 yields_abcd['data_obs']['D']))\n",
    "dc.write('-------\\n')\n",
    "\n",
    "#add the expectations for signal and background\n",
    "dc.write('bin         A    A    B   B   C   C   D   D\\n')\n",
    "dc.write('process     sig  bkg  sig bkg sig bkg sig bkg\\n')\n",
    "dc.write('process     0    1    0   1   0   1   0   1\\n')\n",
    "dc.write('rate        {0:.3f}  {1:.3f}  {2:.3f} {3:.3f} {4:.3f} {5:.3f} {6:.3f} {7:.3f}\\n'.format(yields_abcd['sig']['A'],\n",
    "                                                                                                  yields_abcd['bkg']['A'],\n",
    "                                                                                                  yields_abcd['sig']['B'],\n",
    "                                                                                                  yields_abcd['bkg']['B'],\n",
    "                                                                                                  yields_abcd['sig']['C'],\n",
    "                                                                                                  yields_abcd['bkg']['C'],\n",
    "                                                                                                  yields_abcd['sig']['D'],\n",
    "                                                                                                  yields_abcd['bkg']['D'],\n",
    "                                                                                                 ))\n",
    "dc.write('-------\\n')\n",
    "\n",
    "#add 2.7% unc. on luminosity\n",
    "dc.write('lumi lnN 1.027 - 1.027 - 1.027 - 1.027 -\\n')\n",
    "if '1.00' not in SYS_ERROR: \n",
    "    dc.write('syst_bkg lnN - '+SYS_ERROR+' - - - - - -\\n')\n",
    "\n",
    "#spell-out the ABCD method\n",
    "dc.write('alpha rateParam A bkg (@0*@1/@2) beta,gamma,delta\\n')\n",
    "dc.write('beta  rateParam B bkg {}\\n'.format(yields_abcd['bkg']['B']))\n",
    "dc.write('gamma rateParam C bkg {}\\n'.format(yields_abcd['bkg']['C']))\n",
    "dc.write('delta rateParam D bkg {}\\n'.format(yields_abcd['bkg']['D']))\n",
    "         \n",
    "#all done\n",
    "dc.close()\n",
    "\n",
    "print('datacard'+eras[0]+'_'+stream+'.dat is ready to be used with combine\\n\\n')\n",
    "import os\n",
    "_=os.system('cat datacard'+eras[0]+'_'+stream+'.dat')"
   ]
  },
  {
   "cell_type": "markdown",
   "metadata": {},
   "source": [
    "## Running the Higgs Combination tool for the statistical analysis\n",
    "\n",
    "The short exercise on statistical analysis should be used as a reference - [link](https://cmsdas.github.io/statistics-short-exercise/).\n",
    "as well as the documentation of combine ([here](https://cms-analysis.github.io/HiggsAnalysis-CombinedLimit)). \n",
    "Some basic commands are listed below just to get started:\n",
    "    \n",
    "* Create the workspace: `text2workspace.py datacard.dat -o workspace.root`\n",
    "* Running fit diagnostics: `combine -M FitDiagnostics workspace.root -t -1 --expectSignal=1`\n",
    "* Compute the expected significance (asymptotic): `combine workspace.root -M Significance -t -1 --expectSignal=1`\n",
    "* Likelihood scan: `combine workspace.root -M MultiDimFit --algo grid --points 100 --fastScan --expectSignal=1 -t -1`\n",
    "* Compute the goodness-of-fit: `combine -M GoodnessOfFit workspace.root --algo=saturated --expectSignal=1 -t -1`"
   ]
  },
  {
   "cell_type": "code",
   "execution_count": null,
   "metadata": {},
   "outputs": [],
   "source": []
  }
 ],
 "metadata": {
  "kernelspec": {
   "display_name": "Python 3",
   "language": "python",
   "name": "python3"
  },
  "language_info": {
   "codemirror_mode": {
    "name": "ipython",
    "version": 3
   },
   "file_extension": ".py",
   "mimetype": "text/x-python",
   "name": "python",
   "nbconvert_exporter": "python",
   "pygments_lexer": "ipython3",
   "version": "3.9.6"
  }
 },
 "nbformat": 4,
 "nbformat_minor": 4
}
