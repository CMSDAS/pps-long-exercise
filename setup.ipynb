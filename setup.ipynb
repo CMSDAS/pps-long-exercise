{
 "cells": [
  {
   "cell_type": "markdown",
   "metadata": {},
   "source": [
    "Setup Instructions\n",
    "==============\n",
    "These instructions need to be run once to teach Jupyter about the software environment we'd like to use for the tutorial. It's important that you've followed all the [setup steps](https://github.com/CMSDAS/pps-long-exercise/DAS2022/README.md#getting-started-setup), particularly the grid certificate instructions!\n",
    "\n",
    "The following cell just needs to be executed once. If you logout and log back in, the setup will remain."
   ]
  },
  {
   "cell_type": "code",
   "execution_count": 2,
   "metadata": {},
   "outputs": [
    {
     "name": "stdout",
     "output_type": "stream",
     "text": [
      ">> Local Products Rules ..... started\n",
      ">> Local Products Rules ..... done\n",
      ">> Building CMSSW version CMSSW_10_6_6 ----\n",
      ">> Subsystem pps-long-exercise built\n",
      ">> Subsystem BigProducts built\n",
      "gmake[1]: Entering directory '/home/cms.mpitt/CMSSW_10_6_6'\n",
      ">> Local Products Rules ..... started\n",
      ">> Local Products Rules ..... done\n",
      ">> Creating project symlinks\n",
      ">> Plugins of all types refreshed.\n",
      ">> Done python_symlink\n",
      ">> Compiling python modules cfipython/slc7_amd64_gcc820\n",
      ">> Compiling python modules python\n",
      ">> Done generating edm plugin poisoned information\n",
      ">> All python modules compiled\n",
      "gmake[1]: Leaving directory '/home/cms.mpitt/CMSSW_10_6_6'\n",
      "Loaded CMSSW_10_6_6 into das-pps!\n"
     ]
    },
    {
     "name": "stderr",
     "output_type": "stream",
     "text": [
      "WARNING: In non-interactive mode release checks e.g. deprecated releases, production architectures are disabled.\n",
      "WARNING: There already exists /home/cms.mpitt/CMSSW_10_6_6 area for SCRAM_ARCH slc7_amd64_gcc820.\n",
      "Cloning into 'pps-long-exercise'...\n"
     ]
    }
   ],
   "source": [
    "%%bash\n",
    "#!/bin/bash\n",
    "\n",
    "CMSSW_VER=\"CMSSW_10_6_6\"\n",
    "KERNEL_NAME=\"das-pps\"\n",
    "\n",
    "set -e\n",
    "# Get the CMSSW libraries (specifically ROOT)\n",
    "SCRAM_ARCH=$(ls -d /cvmfs/cms.cern.ch/$(/cvmfs/cms.cern.ch/common/cmsos)*/cms/cmssw/${CMSSW_VER} | tail -n 1 | awk -F / '{ print $4 }')\n",
    "export SCRAM_ARCH\n",
    "source /cvmfs/cms.cern.ch/cmsset_default.sh\n",
    "if [ -d cmssw-env ]; then\n",
    "    rm -rf cmssw-env\n",
    "fi\n",
    "cd $HOME\n",
    "scramv1 project CMSSW $CMSSW_VER \n",
    "\n",
    "cd $CMSSW_VER/src\n",
    "eval `scramv1 runtime -sh`\n",
    "#git clone https://github.com/CMSDAS/pps-short-exercise.git -b DAS2022\n",
    "git clone https://github.com/CMSDAS/pps-long-exercise.git\n",
    "scram b -j 4\n",
    "cd ..\n",
    "\n",
    "# Make a wrapper script to load CMSSW python\n",
    "cat << 'EOF' > bin/python_wrapper.sh\n",
    "#!/bin/bash\n",
    "DIR=\"$( cd \"$( dirname \"${BASH_SOURCE[0]}\" )\" && pwd )\"\n",
    "source /cvmfs/cms.cern.ch/cmsset_default.sh\n",
    "cd $DIR\n",
    "eval `scramv1 runtime -sh`\n",
    "cd -\n",
    "exec python \"$@\"\n",
    "EOF\n",
    "chmod +x bin/python_wrapper.sh\n",
    "\n",
    "# Create the kernel\n",
    "mkdir -p \"$HOME/.local/share/jupyter/kernels/$KERNEL_NAME\"\n",
    "cat << EOF > \"$HOME/.local/share/jupyter/kernels/$KERNEL_NAME/kernel.json\"\n",
    "{\n",
    " \"display_name\": \"$KERNEL_NAME\", \n",
    " \"language\": \"python\", \n",
    " \"argv\": [\n",
    "  \"$PWD/bin/python_wrapper.sh\", \n",
    "  \"-m\", \n",
    "  \"ipykernel_launcher\", \n",
    "  \"-f\", \n",
    "  \"{connection_file}\"\n",
    " ]\n",
    "}\n",
    "EOF\n",
    "\n",
    "# Report OK\n",
    "echo \"Loaded $CMSSW_VERSION into $KERNEL_NAME!\""
   ]
  },
  {
   "cell_type": "markdown",
   "metadata": {},
   "source": [
    "Results\n",
    "=======\n",
    "\n",
    "If successful, you should see something similar to the following:\n",
    "\n",
    "```\n",
    "<snip>\n",
    "Loaded CMSSW_10_6_6 into das-pps!\n",
    "```\n",
    "\n",
    "The new kernel you just made will then show up in the various Jupyter dropdowns, adding it alongside the stock defaults."
   ]
  },
  {
   "cell_type": "code",
   "execution_count": null,
   "metadata": {},
   "outputs": [],
   "source": []
  }
 ],
 "metadata": {
  "kernelspec": {
   "display_name": "Python 2",
   "language": "python",
   "name": "python2"
  },
  "language_info": {
   "codemirror_mode": {
    "name": "ipython",
    "version": 2
   },
   "file_extension": ".py",
   "mimetype": "text/x-python",
   "name": "python",
   "nbconvert_exporter": "python",
   "pygments_lexer": "ipython2",
   "version": "2.7.5"
  }
 },
 "nbformat": 4,
 "nbformat_minor": 2
}
